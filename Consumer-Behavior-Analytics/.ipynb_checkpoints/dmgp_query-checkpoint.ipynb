{
 "cells": [
  {
   "cell_type": "code",
   "execution_count": 2,
   "metadata": {
    "collapsed": true
   },
   "outputs": [],
   "source": [
    "# Import dependencies\n",
    "import sqlite3\n",
    "import pandas as pd\n",
    "import numpy as np\n",
    "from numpy import nan"
   ]
  },
  {
   "cell_type": "code",
   "execution_count": 3,
   "metadata": {
    "collapsed": true
   },
   "outputs": [],
   "source": [
    "# Connect to database\n",
    "conn = sqlite3.connect('database.sqlite')"
   ]
  },
  {
   "cell_type": "code",
   "execution_count": 4,
   "metadata": {},
   "outputs": [
    {
     "data": {
      "text/html": [
       "<div>\n",
       "<style>\n",
       "    .dataframe thead tr:only-child th {\n",
       "        text-align: right;\n",
       "    }\n",
       "\n",
       "    .dataframe thead th {\n",
       "        text-align: left;\n",
       "    }\n",
       "\n",
       "    .dataframe tbody tr th {\n",
       "        vertical-align: top;\n",
       "    }\n",
       "</style>\n",
       "<table border=\"1\" class=\"dataframe\">\n",
       "  <thead>\n",
       "    <tr style=\"text-align: right;\">\n",
       "      <th></th>\n",
       "      <th>index</th>\n",
       "      <th>Geography</th>\n",
       "      <th>Gender</th>\n",
       "      <th>age</th>\n",
       "      <th>population</th>\n",
       "    </tr>\n",
       "  </thead>\n",
       "  <tbody>\n",
       "    <tr>\n",
       "      <th>0</th>\n",
       "      <td>0</td>\n",
       "      <td>Alabama</td>\n",
       "      <td>male</td>\n",
       "      <td>Under_5_years</td>\n",
       "      <td>149374</td>\n",
       "    </tr>\n",
       "    <tr>\n",
       "      <th>1</th>\n",
       "      <td>1</td>\n",
       "      <td>Alabama</td>\n",
       "      <td>male</td>\n",
       "      <td>5_to_9_years</td>\n",
       "      <td>153526</td>\n",
       "    </tr>\n",
       "    <tr>\n",
       "      <th>2</th>\n",
       "      <td>2</td>\n",
       "      <td>Alabama</td>\n",
       "      <td>male</td>\n",
       "      <td>10_to_14_years</td>\n",
       "      <td>157478</td>\n",
       "    </tr>\n",
       "    <tr>\n",
       "      <th>3</th>\n",
       "      <td>3</td>\n",
       "      <td>Alabama</td>\n",
       "      <td>male</td>\n",
       "      <td>15_to_19_years</td>\n",
       "      <td>161735</td>\n",
       "    </tr>\n",
       "    <tr>\n",
       "      <th>4</th>\n",
       "      <td>4</td>\n",
       "      <td>Alabama</td>\n",
       "      <td>male</td>\n",
       "      <td>20_to_24_years</td>\n",
       "      <td>166366</td>\n",
       "    </tr>\n",
       "  </tbody>\n",
       "</table>\n",
       "</div>"
      ],
      "text/plain": [
       "   index Geography Gender             age  population\n",
       "0      0   Alabama   male   Under_5_years      149374\n",
       "1      1   Alabama   male    5_to_9_years      153526\n",
       "2      2   Alabama   male  10_to_14_years      157478\n",
       "3      3   Alabama   male  15_to_19_years      161735\n",
       "4      4   Alabama   male  20_to_24_years      166366"
      ]
     },
     "execution_count": 4,
     "metadata": {},
     "output_type": "execute_result"
    }
   ],
   "source": [
    "# Read sqlite query results into a pandas DataFrame\n",
    "dmgp_df = pd.read_sql_query('SELECT * from demography_table',conn)\n",
    "dmgp_df.head()"
   ]
  },
  {
   "cell_type": "code",
   "execution_count": 5,
   "metadata": {},
   "outputs": [
    {
     "data": {
      "text/html": [
       "<div>\n",
       "<style>\n",
       "    .dataframe thead tr:only-child th {\n",
       "        text-align: right;\n",
       "    }\n",
       "\n",
       "    .dataframe thead th {\n",
       "        text-align: left;\n",
       "    }\n",
       "\n",
       "    .dataframe tbody tr th {\n",
       "        vertical-align: top;\n",
       "    }\n",
       "</style>\n",
       "<table border=\"1\" class=\"dataframe\">\n",
       "  <thead>\n",
       "    <tr style=\"text-align: right;\">\n",
       "      <th></th>\n",
       "      <th>index</th>\n",
       "      <th>State</th>\n",
       "      <th>Latitude</th>\n",
       "      <th>Longitude</th>\n",
       "      <th>City</th>\n",
       "    </tr>\n",
       "  </thead>\n",
       "  <tbody>\n",
       "    <tr>\n",
       "      <th>0</th>\n",
       "      <td>0</td>\n",
       "      <td>AL</td>\n",
       "      <td>32.601011</td>\n",
       "      <td>-86.680736</td>\n",
       "      <td>Alabama</td>\n",
       "    </tr>\n",
       "    <tr>\n",
       "      <th>1</th>\n",
       "      <td>1</td>\n",
       "      <td>AK</td>\n",
       "      <td>61.302501</td>\n",
       "      <td>-158.775020</td>\n",
       "      <td>Alaska</td>\n",
       "    </tr>\n",
       "    <tr>\n",
       "      <th>2</th>\n",
       "      <td>2</td>\n",
       "      <td>AZ</td>\n",
       "      <td>34.168219</td>\n",
       "      <td>-111.930907</td>\n",
       "      <td>Arizona</td>\n",
       "    </tr>\n",
       "    <tr>\n",
       "      <th>3</th>\n",
       "      <td>3</td>\n",
       "      <td>AR</td>\n",
       "      <td>34.751928</td>\n",
       "      <td>-92.131378</td>\n",
       "      <td>Arkansas</td>\n",
       "    </tr>\n",
       "    <tr>\n",
       "      <th>4</th>\n",
       "      <td>4</td>\n",
       "      <td>CA</td>\n",
       "      <td>37.271875</td>\n",
       "      <td>-119.270415</td>\n",
       "      <td>California</td>\n",
       "    </tr>\n",
       "  </tbody>\n",
       "</table>\n",
       "</div>"
      ],
      "text/plain": [
       "   index State   Latitude   Longitude        City\n",
       "0      0    AL  32.601011  -86.680736     Alabama\n",
       "1      1    AK  61.302501 -158.775020      Alaska\n",
       "2      2    AZ  34.168219 -111.930907     Arizona\n",
       "3      3    AR  34.751928  -92.131378    Arkansas\n",
       "4      4    CA  37.271875 -119.270415  California"
      ]
     },
     "execution_count": 5,
     "metadata": {},
     "output_type": "execute_result"
    }
   ],
   "source": [
    "# Read sqlite query results into a pandas DataFrame\n",
    "coordinate_df = pd.read_sql_query('SELECT * from coordinate_table',conn)\n",
    "coordinate_df.head()"
   ]
  },
  {
   "cell_type": "code",
   "execution_count": 6,
   "metadata": {},
   "outputs": [
    {
     "data": {
      "text/html": [
       "<div>\n",
       "<style>\n",
       "    .dataframe thead tr:only-child th {\n",
       "        text-align: right;\n",
       "    }\n",
       "\n",
       "    .dataframe thead th {\n",
       "        text-align: left;\n",
       "    }\n",
       "\n",
       "    .dataframe tbody tr th {\n",
       "        vertical-align: top;\n",
       "    }\n",
       "</style>\n",
       "<table border=\"1\" class=\"dataframe\">\n",
       "  <thead>\n",
       "    <tr style=\"text-align: right;\">\n",
       "      <th></th>\n",
       "      <th>State</th>\n",
       "      <th>Latitude</th>\n",
       "      <th>Longitude</th>\n",
       "      <th>Gender</th>\n",
       "      <th>age</th>\n",
       "      <th>population</th>\n",
       "    </tr>\n",
       "  </thead>\n",
       "  <tbody>\n",
       "    <tr>\n",
       "      <th>0</th>\n",
       "      <td>AL</td>\n",
       "      <td>32.601011</td>\n",
       "      <td>-86.680736</td>\n",
       "      <td>male</td>\n",
       "      <td>Under_5_years</td>\n",
       "      <td>149374</td>\n",
       "    </tr>\n",
       "    <tr>\n",
       "      <th>1</th>\n",
       "      <td>AL</td>\n",
       "      <td>32.601011</td>\n",
       "      <td>-86.680736</td>\n",
       "      <td>male</td>\n",
       "      <td>5_to_9_years</td>\n",
       "      <td>153526</td>\n",
       "    </tr>\n",
       "    <tr>\n",
       "      <th>2</th>\n",
       "      <td>AL</td>\n",
       "      <td>32.601011</td>\n",
       "      <td>-86.680736</td>\n",
       "      <td>male</td>\n",
       "      <td>10_to_14_years</td>\n",
       "      <td>157478</td>\n",
       "    </tr>\n",
       "    <tr>\n",
       "      <th>3</th>\n",
       "      <td>AL</td>\n",
       "      <td>32.601011</td>\n",
       "      <td>-86.680736</td>\n",
       "      <td>male</td>\n",
       "      <td>15_to_19_years</td>\n",
       "      <td>161735</td>\n",
       "    </tr>\n",
       "    <tr>\n",
       "      <th>4</th>\n",
       "      <td>AL</td>\n",
       "      <td>32.601011</td>\n",
       "      <td>-86.680736</td>\n",
       "      <td>male</td>\n",
       "      <td>20_to_24_years</td>\n",
       "      <td>166366</td>\n",
       "    </tr>\n",
       "  </tbody>\n",
       "</table>\n",
       "</div>"
      ],
      "text/plain": [
       "  State   Latitude  Longitude Gender             age  population\n",
       "0    AL  32.601011 -86.680736   male   Under_5_years      149374\n",
       "1    AL  32.601011 -86.680736   male    5_to_9_years      153526\n",
       "2    AL  32.601011 -86.680736   male  10_to_14_years      157478\n",
       "3    AL  32.601011 -86.680736   male  15_to_19_years      161735\n",
       "4    AL  32.601011 -86.680736   male  20_to_24_years      166366"
      ]
     },
     "execution_count": 6,
     "metadata": {},
     "output_type": "execute_result"
    }
   ],
   "source": [
    "# Read sqlite query results into a pandas DataFrame\n",
    "total_dmgp_df = pd.read_sql_query(\"\"\"SELECT \n",
    "State,\n",
    "Latitude,\n",
    "Longitude,\n",
    "\n",
    "Gender,\n",
    "age,\n",
    "population\n",
    "\n",
    "FROM demography_table a\n",
    "join coordinate_table b \n",
    "on a.Geography = b.City\n",
    "\"\"\",conn)\n",
    "\n",
    "total_dmgp_df.head()"
   ]
  },
  {
   "cell_type": "markdown",
   "metadata": {},
   "source": [
    "# The Greatest Generation & The Silent Generation: Age 73 - 108"
   ]
  },
  {
   "cell_type": "code",
   "execution_count": 6,
   "metadata": {
    "collapsed": true
   },
   "outputs": [],
   "source": [
    "# Read sqlite query results into a pandas DataFrame\n",
    "# greatest_and_silent_df = pd.read_sql_query(\"\"\"SELECT \n",
    "# Geography as City,\n",
    "# (Both_Sexes_Total_70_to_74_years_2017 + Both_Sexes_Total_75_to_79_years_2017 + Both_Sexes_Total_80_to_84_years_2017 + Both_Sexes_Total_85_years_and_over_2017) as total_greatest_and_silent,\n",
    "# (Male_Total_70_to_74_years_2017 + Male_Total_75_to_79_years_2017 + Male_Total_80_to_84_years_2017 + Male_Total_85_years_and_over_2017) as male_greatest_and_silent,\n",
    "# (Female_Total_70_to_74_years_2017 + Female_Total_75_to_79_years_2017 + Female_Total_80_to_84_years_2017 + Female_Total_85_years_and_over_2017) as female_greatest_and_silent\n",
    "# FROM demography_table \n",
    "# \"\"\",conn)\n",
    "\n",
    "# greatest_and_silent_df.head()"
   ]
  },
  {
   "cell_type": "markdown",
   "metadata": {},
   "source": [
    "# Baby Boomer Generation: Age 54 - 74"
   ]
  },
  {
   "cell_type": "code",
   "execution_count": 7,
   "metadata": {
    "collapsed": true
   },
   "outputs": [],
   "source": [
    "# Read sqlite query results into a pandas DataFrame\n",
    "# baby_boomer_df = pd.read_sql_query(\"\"\"SELECT \n",
    "# Geography as City,\n",
    "# (Both_Sexes_Total_55_to_59_years_2017 + Both_Sexes_Total_60_to_64_years_2017 + Both_Sexes_Total_60_to_64_years_2017 + Both_Sexes_Total_65_to_69_years_2017 + Both_Sexes_Total_70_to_74_years_2017) as total_baby_boomer,\n",
    "# (Male_Total_55_to_59_years_2017 + Male_Total_60_to_64_years_2017 + Male_Total_60_to_64_years_2017 + Male_Total_65_to_69_years_2017 + Male_Total_70_to_74_years_2017) as male_baby_boomer,\n",
    "# (Female_Total_55_to_59_years_2017 + Female_Total_60_to_64_years_2017 + Female_Total_60_to_64_years_2017 + Female_Total_65_to_69_years_2017 + Female_Total_70_to_74_years_2017) as female_baby_boomer\n",
    "# FROM coordinate_table a \n",
    "# inner join demography_table b\n",
    "# on a.City = b.Geography\n",
    "# \"\"\",conn)\n",
    "\n",
    "# baby_boomer_df.head()"
   ]
  },
  {
   "cell_type": "markdown",
   "metadata": {},
   "source": [
    "# Generation X (Baby Bust): Age 39 - 53"
   ]
  },
  {
   "cell_type": "code",
   "execution_count": 8,
   "metadata": {
    "collapsed": true
   },
   "outputs": [],
   "source": [
    "# Read sqlite query results into a pandas DataFrame\n",
    "# gen_x_df = pd.read_sql_query(\"\"\"SELECT \n",
    "# Geography as City,\n",
    "# (Both_Sexes_Total_40_to_44_years_2017 + Both_Sexes_Total_45_to_49_years_2017 + Both_Sexes_Total_50_to_54_years_2017) as total_gen_x,\n",
    "# (Male_Total_40_to_44_years_2017 + Male_Total_45_to_49_years_2017 + Male_Total_50_to_54_years_2017) as male_gen_x,\n",
    "# (Female_Total_40_to_44_years_2017 + Female_Total_45_to_49_years_2017 + Female_Total_50_to_54_years_2017) as female_gen_x\n",
    "# FROM demography_table \n",
    "# \"\"\",conn)\n",
    "\n",
    "# gen_x_df.head()"
   ]
  },
  {
   "cell_type": "markdown",
   "metadata": {},
   "source": [
    "# Xennials: Age 33 - 43"
   ]
  },
  {
   "cell_type": "code",
   "execution_count": 9,
   "metadata": {
    "collapsed": true
   },
   "outputs": [],
   "source": [
    "# Read sqlite query results into a pandas DataFrame\n",
    "# xennials_df = pd.read_sql_query(\"\"\"SELECT \n",
    "# Geography as City,\n",
    "# (Both_Sexes_Total_35_to_39_years_2017 + Both_Sexes_Total_40_to_44_years_2017) as total_xennials,\n",
    "# (Male_Total_35_to_39_years_2017 + Male_Total_40_to_44_years_2017) as male_xennials,\n",
    "# (Female_Total_35_to_39_years_2017 + Female_Total_40_to_44_years_2017) as female_xennials\n",
    "# FROM demography_table\n",
    "# \"\"\",conn)\n",
    "\n",
    "# xennials_df.head()"
   ]
  },
  {
   "cell_type": "markdown",
   "metadata": {},
   "source": [
    "# Millennials (Generation Y, Gen Next): Age 24 - 38"
   ]
  },
  {
   "cell_type": "code",
   "execution_count": 10,
   "metadata": {
    "collapsed": true
   },
   "outputs": [],
   "source": [
    "# Read sqlite query results into a pandas DataFrame\n",
    "# millennials_df = pd.read_sql_query(\"\"\"SELECT \n",
    "# Geography as City,\n",
    "# (Both_Sexes_Total_25_to_29_years_2017 + Both_Sexes_Total_30_to_34_years_2017 + Both_Sexes_Total_35_to_39_years_2017) as total_millennials,\n",
    "# (Male_Total_25_to_29_years_2017 + Male_Total_30_to_34_years_2017 + Male_Total_35_to_39_years_2017) as male_millennials,\n",
    "# (Female_Total_25_to_29_years_2017 + Female_Total_30_to_34_years_2017 + Female_Total_35_to_39_years_2017) as female_millennials\n",
    "# FROM demography_table\n",
    "# \"\"\",conn)\n",
    "\n",
    "# millennials_df.head()"
   ]
  },
  {
   "cell_type": "markdown",
   "metadata": {},
   "source": [
    "# iGen / Gen Z & Gen Alpha: Age Under 23"
   ]
  },
  {
   "cell_type": "code",
   "execution_count": 11,
   "metadata": {
    "collapsed": true
   },
   "outputs": [],
   "source": [
    "# Read sqlite query results into a pandas DataFrame\n",
    "# gen_z_df = pd.read_sql_query(\"\"\"SELECT \n",
    "# Geography as City,\n",
    "# (Both_Sexes_Total_Under_5_years_2017 + Both_Sexes_Total_5_to_9_years_2017 + Both_Sexes_Total_10_to_14_years_2017 + Both_Sexes_Total_15_to_19_years_2017 + Both_Sexes_Total_20_to_24_years_2017) as total_gen_z,\n",
    "# (Male_Total_Under_5_years_2017 + Male_Total_5_to_9_years_2017 + Male_Total_10_to_14_years_2017 + Male_Total_15_to_19_years_2017 + Male_Total_20_to_24_years_2017) as male_gen_zs,\n",
    "# (Female_Total_Under_5_years_2017 + Female_Total_5_to_9_years_2017 + Female_Total_10_to_14_years_2017 + Female_Total_15_to_19_years_2017 + Female_Total_20_to_24_years_2017) as female_gen_z\n",
    "# FROM demography_table \n",
    "# \"\"\",conn)\n",
    "\n",
    "# gen_z_df.head()"
   ]
  },
  {
   "cell_type": "code",
   "execution_count": 7,
   "metadata": {
    "collapsed": true
   },
   "outputs": [],
   "source": [
    "# Save query result to csv file\n",
    "total_dmgp_df.to_csv(\"clean_data\\clean_demography_data.csv\", encoding='utf-8')"
   ]
  }
 ],
 "metadata": {
  "kernelspec": {
   "display_name": "Python 3",
   "language": "python",
   "name": "python3"
  },
  "language_info": {
   "codemirror_mode": {
    "name": "ipython",
    "version": 3
   },
   "file_extension": ".py",
   "mimetype": "text/x-python",
   "name": "python",
   "nbconvert_exporter": "python",
   "pygments_lexer": "ipython3",
   "version": "3.6.3"
  }
 },
 "nbformat": 4,
 "nbformat_minor": 2
}
